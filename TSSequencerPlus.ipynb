{
  "nbformat": 4,
  "nbformat_minor": 0,
  "metadata": {
    "colab": {
      "provenance": [],
      "authorship_tag": "ABX9TyNQsPlfTxXbML/5H1kaHHKI",
      "include_colab_link": true
    },
    "kernelspec": {
      "name": "python3",
      "display_name": "Python 3"
    },
    "language_info": {
      "name": "python"
    }
  },
  "cells": [
    {
      "cell_type": "markdown",
      "metadata": {
        "id": "view-in-github",
        "colab_type": "text"
      },
      "source": [
        "<a href=\"https://colab.research.google.com/github/israt-tabassum/AirQuality_Univariate/blob/main/TSSequencerPlus.ipynb\" target=\"_parent\"><img src=\"https://colab.research.google.com/assets/colab-badge.svg\" alt=\"Open In Colab\"/></a>"
      ]
    },
    {
      "cell_type": "code",
      "execution_count": null,
      "metadata": {
        "id": "G3FmOUm45L26"
      },
      "outputs": [],
      "source": [
        "# Install necessary packages (uncomment if needed)\n",
        "!pip install tsai\n",
        "!pip install pandas scikit-learn numpy matplotlib\n",
        "\n",
        "# Required Libraries\n",
        "from tsai.all import *\n",
        "import pandas as pd\n",
        "import numpy as np\n",
        "from sklearn.preprocessing import MinMaxScaler\n",
        "from sklearn.metrics import mean_squared_error\n",
        "from math import sqrt\n",
        "import matplotlib.pyplot as plt\n",
        "from google.colab import drive\n",
        "\n",
        "# Mount Google Drive\n",
        "drive.mount('/content/drive', force_remount=True)\n",
        "\n",
        "# Load the data\n",
        "df = pd.read_csv('/content/drive/MyDrive/AirQuality/tromso_PM2.5_hourly_e1_csv/tromso_PM2.5_hourly_e1.csv', parse_dates=['Start', 'End'])\n",
        "\n",
        "# Filter and preprocess data\n",
        "df = df[['Start', 'Value']].sort_values(by='Start')\n",
        "scaler = MinMaxScaler()\n",
        "df['Value'] = scaler.fit_transform(df[['Value']])\n",
        "\n",
        "# Extract the values for modeling\n",
        "values = df['Value'].values\n",
        "\n",
        "# Create time series dataset using `tsai`'s SlidingWindow\n",
        "sequence_length = 100  # Number of steps in each input sequence\n",
        "X, y = SlidingWindow(window_len=sequence_length, horizon=1)(values)  # Corrected argument name\n",
        "\n",
        "# Generate train-test split indices using `RandomSplitter`\n",
        "splits = RandomSplitter(valid_pct=0.2)(range_of(X))  # Automatically create splits\n",
        "\n",
        "# Convert to DataLoaders for tsai\n",
        "tfms = [None, TSForecasting()]\n",
        "dls = get_ts_dls(X, y, splits=splits, tfms=tfms, bs=32)\n",
        "\n",
        "# Define the TSSequencerPlus model\n",
        "model = TSSequencerPlus(\n",
        "    c_in=1,       # Number of input features\n",
        "    c_out=1,      # Number of output features (forecast horizon)\n",
        "    seq_len=sequence_length,\n",
        "    d_model=128,  # Model dimension\n",
        "    depth=6,      # Number of encoder layers\n",
        "    lstm_dropout=0.1,\n",
        "    dropout=0.1,\n",
        "    drop_path_rate=0.1,\n",
        "    use_token=False  # Adjust based on your task (classification vs forecasting)\n",
        ")\n",
        "\n",
        "# Create a Learner\n",
        "learn = Learner(dls, model, loss_func=MSELossFlat(), metrics=mae)\n",
        "\n",
        "# Train the model\n",
        "learn.fit_one_cycle(10, lr_max=1e-3)\n",
        "\n",
        "# Validate the model\n",
        "valid_mae = learn.validate()[1]\n",
        "print(f\"Validation MAE: {valid_mae:.4f}\")\n",
        "\n",
        "# Evaluate RMSE on the validation set\n",
        "preds, targs = learn.get_preds(ds_idx=1)\n",
        "y_valid_pred = preds.numpy()\n",
        "y_valid_true = targs.numpy()\n",
        "y_valid_pred = scaler.inverse_transform(y_valid_pred)\n",
        "y_valid_true = scaler.inverse_transform(y_valid_true.reshape(-1, 1))\n",
        "rmse = sqrt(mean_squared_error(y_valid_true, y_valid_pred))\n",
        "print(f\"Validation RMSE: {rmse:.4f}\")\n",
        "\n",
        "# Predict future steps\n",
        "future_steps = 10\n",
        "last_seq = values[-sequence_length:].reshape(1, sequence_length)  # Reshape for prediction\n",
        "preds = learn.get_X_preds(torch.tensor(last_seq).unsqueeze(1).float())[0]  # Adjust for tsai's method\n",
        "preds = scaler.inverse_transform(preds.numpy())\n",
        "\n",
        "print(f\"Predicted next {future_steps} values: {preds.flatten()}\")\n",
        "\n",
        "# Visualize results\n",
        "plt.figure(figsize=(10, 6))\n",
        "plt.plot(scaler.inverse_transform(y_valid_true), label='True Values')\n",
        "plt.plot(scaler.inverse_transform(y_valid_pred), label='Predicted Values')\n",
        "plt.legend()\n",
        "plt.title(\"True vs Predicted Values\")\n",
        "plt.show()\n"
      ]
    }
  ]
}